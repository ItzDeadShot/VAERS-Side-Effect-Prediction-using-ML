{
  "cells": [
    {
      "cell_type": "markdown",
      "metadata": {
        "id": "cQ8qzB-9aocv"
      },
      "source": [
        "# Downloading Data from Kaggle\n",
        "\n",
        "To download the dataset from Kaggle, you need the kaggle.json file that contains your username and api key. In order to obtain that, just follow this link: https://www.analyticsvidhya.com/blog/2021/06/how-to-load-kaggle-datasets-directly-into-google-colab/ and download it.\n",
        "\n",
        "Once you have it, you need to copy '.env.example' and rename it to '.env'.\n",
        "\n",
        "Then place your username and api key in the .env folder from kaggle.json file.\n",
        "\n",
        "Now you can proceed with downloading the data and preprocessing it.\n",
        "\n",
        "At the end of this, you will be able to obtain processed data"
      ]
    },
    {
      "cell_type": "code",
      "execution_count": null,
      "metadata": {
        "colab": {
          "base_uri": "https://localhost:8080/"
        },
        "id": "ZCCqtvaPWanw",
        "outputId": "3dc68ebd-3f4a-4fda-84eb-2d6a7d31b7e8"
      },
      "outputs": [],
      "source": [
        "! pip install kaggle -q\n",
        "! pip install python-dotenv -q"
      ]
    },
    {
      "cell_type": "code",
      "execution_count": 19,
      "metadata": {},
      "outputs": [],
      "source": [
        "import dotenv\n",
        "import os\n",
        "import zipfile"
      ]
    },
    {
      "cell_type": "code",
      "execution_count": 4,
      "metadata": {},
      "outputs": [
        {
          "data": {
            "text/plain": [
              "True"
            ]
          },
          "execution_count": 4,
          "metadata": {},
          "output_type": "execute_result"
        }
      ],
      "source": [
        "dotenv.load_dotenv()"
      ]
    },
    {
      "cell_type": "code",
      "execution_count": 15,
      "metadata": {},
      "outputs": [],
      "source": [
        "json_content = '{\"username\":' + f\"\\\"{os.getenv('KAGGLE_USERNAME')}\\\"\" + ',\"key\":' + f\"\\\"{os.getenv('KAGGLE_KEY')}\\\"\" + '}'\n",
        "home = os.path.expanduser(\"~\")\n",
        "kaggle_path = os.path.join(home, '.kaggle')\n",
        "try:\n",
        "    os.makedirs(kaggle_path)\n",
        "    with open(os.path.join(kaggle_path, 'kaggle.json'), 'w') as f:\n",
        "        f.write(json_content)\n",
        "except OSError as e:\n",
        "    if e.errno != errno.EEXIST:\n",
        "        raise"
      ]
    },
    {
      "cell_type": "code",
      "execution_count": null,
      "metadata": {
        "colab": {
          "base_uri": "https://localhost:8080/"
        },
        "id": "MhnQMEBYZ2xs",
        "outputId": "88eeaf04-d62f-4aae-c0e5-d99b81ae4f14"
      },
      "outputs": [],
      "source": [
        "! kaggle datasets download landfallmotto/covid19-vaccine-adverse-reactions-vaers-dataset"
      ]
    },
    {
      "cell_type": "code",
      "execution_count": 20,
      "metadata": {
        "colab": {
          "base_uri": "https://localhost:8080/"
        },
        "id": "6KmmT_-QaIQU",
        "outputId": "3de6d443-fa0e-493d-9e38-05ed01aefe9f"
      },
      "outputs": [
        {
          "name": "stderr",
          "output_type": "stream",
          "text": [
            "A subdirectory or file data already exists.\n"
          ]
        }
      ],
      "source": [
        "! mkdir data\n",
        "with zipfile.ZipFile('covid19-vaccine-adverse-reactions-vaers-dataset.zip', 'r') as zip_ref:\n",
        "    zip_ref.extractall('data')"
      ]
    },
    {
      "cell_type": "code",
      "execution_count": 23,
      "metadata": {},
      "outputs": [],
      "source": [
        "os.remove('covid19-vaccine-adverse-reactions-vaers-dataset.zip')"
      ]
    },
    {
      "cell_type": "markdown",
      "metadata": {
        "id": "YOhTX-11an9N"
      },
      "source": [
        "# Data Preprocessing"
      ]
    },
    {
      "cell_type": "code",
      "execution_count": null,
      "metadata": {
        "id": "fktHINmfa5DP"
      },
      "outputs": [],
      "source": [
        "import numpy as np # linear algebra\n",
        "import pandas as pd # data processing, CSV file I/O (e.g. pd.read_csv)"
      ]
    },
    {
      "cell_type": "code",
      "execution_count": null,
      "metadata": {
        "id": "NI6FprZYbHqF"
      },
      "outputs": [],
      "source": [
        "#Importing dataset\n",
        "df = pd.read_csv('data/vaers_jan_nov_2021.csv')\n",
        "df.head()"
      ]
    },
    {
      "cell_type": "code",
      "execution_count": null,
      "metadata": {
        "id": "AB85ZjcsbwPH"
      },
      "outputs": [],
      "source": [
        "# Check for null values\n",
        "df.isna().sum()"
      ]
    },
    {
      "cell_type": "code",
      "execution_count": null,
      "metadata": {
        "colab": {
          "base_uri": "https://localhost:8080/"
        },
        "id": "FGkhK4N7e4Wb",
        "outputId": "09a12185-c0ed-4162-f037-2b83063ff83f"
      },
      "outputs": [
        {
          "data": {
            "text/plain": [
              "805478"
            ]
          },
          "execution_count": 313,
          "metadata": {},
          "output_type": "execute_result"
        }
      ],
      "source": [
        "#Removing all JENSSEN vaccine information\n",
        "vaers = df.loc[df['VAX_MANU'].str.contains('PFIZER|MODERNA')]\n",
        "len(vaers)"
      ]
    },
    {
      "cell_type": "code",
      "execution_count": null,
      "metadata": {
        "colab": {
          "base_uri": "https://localhost:8080/"
        },
        "id": "7Y3qKli2b8M8",
        "outputId": "e39028b3-7de3-4d9c-b775-b0a3ac8bfcbf"
      },
      "outputs": [
        {
          "data": {
            "text/plain": [
              "805478"
            ]
          },
          "execution_count": 314,
          "metadata": {},
          "output_type": "execute_result"
        }
      ],
      "source": [
        "#Removing useless features\n",
        "vaers = vaers[['VAERS_ID','SYMPTOM1','VAX_MANU', 'AGE_YRS', 'SEX',]]\n",
        "len(vaers)"
      ]
    },
    {
      "cell_type": "code",
      "execution_count": null,
      "metadata": {
        "colab": {
          "base_uri": "https://localhost:8080/"
        },
        "id": "R_-VQQI5zeiz",
        "outputId": "3113fcb8-d6b4-4e48-d193-2ccae0a11f51"
      },
      "outputs": [
        {
          "data": {
            "text/plain": [
              "746337"
            ]
          },
          "execution_count": 315,
          "metadata": {},
          "output_type": "execute_result"
        }
      ],
      "source": [
        "#Removing null and empty values drom dataset\n",
        "vaers = vaers.dropna()\n",
        "len(vaers)"
      ]
    },
    {
      "cell_type": "code",
      "execution_count": null,
      "metadata": {
        "colab": {
          "base_uri": "https://localhost:8080/"
        },
        "id": "9qLifT06Nq4X",
        "outputId": "23a21dd9-06be-497a-abde-0c567a143f23"
      },
      "outputs": [
        {
          "data": {
            "text/plain": [
              "368441"
            ]
          },
          "execution_count": 316,
          "metadata": {},
          "output_type": "execute_result"
        }
      ],
      "source": [
        "#Removing duplicate ID fields\n",
        "vaers = vaers.drop_duplicates(subset=['VAERS_ID'], keep=False)\n",
        "len(vaers)"
      ]
    },
    {
      "cell_type": "code",
      "execution_count": null,
      "metadata": {
        "colab": {
          "base_uri": "https://localhost:8080/"
        },
        "id": "jH9Z3Tv_PoL4",
        "outputId": "0ce01def-3b9f-4a40-c870-96cd27279cb9"
      },
      "outputs": [
        {
          "data": {
            "text/plain": [
              "365114"
            ]
          },
          "execution_count": 317,
          "metadata": {},
          "output_type": "execute_result"
        }
      ],
      "source": [
        "#Removing no adverse event rows\n",
        "vaers = vaers[~vaers.SYMPTOM1.str.contains(\"No adverse event\")]\n",
        "len(vaers)"
      ]
    },
    {
      "cell_type": "code",
      "execution_count": null,
      "metadata": {
        "colab": {
          "base_uri": "https://localhost:8080/"
        },
        "id": "k63lXG_sQfkN",
        "outputId": "c46c29c8-5610-4019-bda1-ef44a33f588e"
      },
      "outputs": [
        {
          "data": {
            "text/plain": [
              "362014"
            ]
          },
          "execution_count": 318,
          "metadata": {},
          "output_type": "execute_result"
        }
      ],
      "source": [
        "#Removing unknown sex/gender rows\n",
        "vaers = vaers[~vaers.SEX.str.contains(\"U\")]\n",
        "len(vaers)"
      ]
    },
    {
      "cell_type": "code",
      "execution_count": null,
      "metadata": {
        "id": "Z-gaREvrxsvQ"
      },
      "outputs": [],
      "source": [
        "vaers['AGE_YRS'] = vaers['AGE_YRS'].apply(np.ceil)\n",
        "vaers.head()"
      ]
    },
    {
      "cell_type": "code",
      "execution_count": null,
      "metadata": {
        "colab": {
          "base_uri": "https://localhost:8080/"
        },
        "id": "6n-9m03b2FLx",
        "outputId": "761fe702-f783-4ca7-8434-b692d9d53583"
      },
      "outputs": [
        {
          "name": "stdout",
          "output_type": "stream",
          "text": [
            "30.0\n",
            "-10.0\n",
            "110.0\n"
          ]
        }
      ],
      "source": [
        "#Finiding outliers of age\n",
        "Q1 = vaers['AGE_YRS'].quantile(0.25)\n",
        "Q3 = vaers['AGE_YRS'].quantile(0.75)\n",
        "IQR = Q3 - Q1\n",
        "Lower_Fence = Q1 - (1.5 * IQR)\n",
        "Upper_Fence = Q3 + (1.5 * IQR)\n",
        "print(IQR)\n",
        "print(Lower_Fence)\n",
        "print(Upper_Fence)"
      ]
    },
    {
      "cell_type": "code",
      "execution_count": null,
      "metadata": {
        "colab": {
          "base_uri": "https://localhost:8080/"
        },
        "id": "ABHiS6822oPG",
        "outputId": "982831be-f605-4cf1-cf65-404a1374962b"
      },
      "outputs": [
        {
          "data": {
            "text/plain": [
              "362006"
            ]
          },
          "execution_count": 321,
          "metadata": {},
          "output_type": "execute_result"
        }
      ],
      "source": [
        "#Removing Outliers the data set\n",
        "vaers = vaers[~((vaers['AGE_YRS'] < Lower_Fence) |(vaers['AGE_YRS'] > Upper_Fence))]\n",
        "len(vaers)"
      ]
    },
    {
      "cell_type": "code",
      "execution_count": null,
      "metadata": {
        "colab": {
          "base_uri": "https://localhost:8080/",
          "height": 206
        },
        "id": "5bWOlyBAQ7--",
        "outputId": "7cf3c164-f29d-4122-d8be-538ff22433e0"
      },
      "outputs": [
        {
          "data": {
            "text/html": [
              "\n",
              "  <div id=\"df-bad21989-d583-4ece-b12b-9ac20cb458bf\">\n",
              "    <div class=\"colab-df-container\">\n",
              "      <div>\n",
              "<style scoped>\n",
              "    .dataframe tbody tr th:only-of-type {\n",
              "        vertical-align: middle;\n",
              "    }\n",
              "\n",
              "    .dataframe tbody tr th {\n",
              "        vertical-align: top;\n",
              "    }\n",
              "\n",
              "    .dataframe thead th {\n",
              "        text-align: right;\n",
              "    }\n",
              "</style>\n",
              "<table border=\"1\" class=\"dataframe\">\n",
              "  <thead>\n",
              "    <tr style=\"text-align: right;\">\n",
              "      <th></th>\n",
              "      <th>ID</th>\n",
              "      <th>Side_Effect</th>\n",
              "      <th>Vaccine</th>\n",
              "      <th>Age</th>\n",
              "      <th>Sex</th>\n",
              "    </tr>\n",
              "  </thead>\n",
              "  <tbody>\n",
              "    <tr>\n",
              "      <th>0</th>\n",
              "      <td>916600</td>\n",
              "      <td>Dysphagia</td>\n",
              "      <td>MODERNA</td>\n",
              "      <td>33.0</td>\n",
              "      <td>F</td>\n",
              "    </tr>\n",
              "    <tr>\n",
              "      <th>1</th>\n",
              "      <td>916601</td>\n",
              "      <td>Anxiety</td>\n",
              "      <td>MODERNA</td>\n",
              "      <td>73.0</td>\n",
              "      <td>F</td>\n",
              "    </tr>\n",
              "    <tr>\n",
              "      <th>2</th>\n",
              "      <td>916602</td>\n",
              "      <td>Chest discomfort</td>\n",
              "      <td>PFIZER\\BIONTECH</td>\n",
              "      <td>23.0</td>\n",
              "      <td>F</td>\n",
              "    </tr>\n",
              "    <tr>\n",
              "      <th>3</th>\n",
              "      <td>916603</td>\n",
              "      <td>Dizziness</td>\n",
              "      <td>MODERNA</td>\n",
              "      <td>58.0</td>\n",
              "      <td>F</td>\n",
              "    </tr>\n",
              "    <tr>\n",
              "      <th>4</th>\n",
              "      <td>916604</td>\n",
              "      <td>Injection site erythema</td>\n",
              "      <td>MODERNA</td>\n",
              "      <td>47.0</td>\n",
              "      <td>F</td>\n",
              "    </tr>\n",
              "  </tbody>\n",
              "</table>\n",
              "</div>\n",
              "      <button class=\"colab-df-convert\" onclick=\"convertToInteractive('df-bad21989-d583-4ece-b12b-9ac20cb458bf')\"\n",
              "              title=\"Convert this dataframe to an interactive table.\"\n",
              "              style=\"display:none;\">\n",
              "        \n",
              "  <svg xmlns=\"http://www.w3.org/2000/svg\" height=\"24px\"viewBox=\"0 0 24 24\"\n",
              "       width=\"24px\">\n",
              "    <path d=\"M0 0h24v24H0V0z\" fill=\"none\"/>\n",
              "    <path d=\"M18.56 5.44l.94 2.06.94-2.06 2.06-.94-2.06-.94-.94-2.06-.94 2.06-2.06.94zm-11 1L8.5 8.5l.94-2.06 2.06-.94-2.06-.94L8.5 2.5l-.94 2.06-2.06.94zm10 10l.94 2.06.94-2.06 2.06-.94-2.06-.94-.94-2.06-.94 2.06-2.06.94z\"/><path d=\"M17.41 7.96l-1.37-1.37c-.4-.4-.92-.59-1.43-.59-.52 0-1.04.2-1.43.59L10.3 9.45l-7.72 7.72c-.78.78-.78 2.05 0 2.83L4 21.41c.39.39.9.59 1.41.59.51 0 1.02-.2 1.41-.59l7.78-7.78 2.81-2.81c.8-.78.8-2.07 0-2.86zM5.41 20L4 18.59l7.72-7.72 1.47 1.35L5.41 20z\"/>\n",
              "  </svg>\n",
              "      </button>\n",
              "      \n",
              "  <style>\n",
              "    .colab-df-container {\n",
              "      display:flex;\n",
              "      flex-wrap:wrap;\n",
              "      gap: 12px;\n",
              "    }\n",
              "\n",
              "    .colab-df-convert {\n",
              "      background-color: #E8F0FE;\n",
              "      border: none;\n",
              "      border-radius: 50%;\n",
              "      cursor: pointer;\n",
              "      display: none;\n",
              "      fill: #1967D2;\n",
              "      height: 32px;\n",
              "      padding: 0 0 0 0;\n",
              "      width: 32px;\n",
              "    }\n",
              "\n",
              "    .colab-df-convert:hover {\n",
              "      background-color: #E2EBFA;\n",
              "      box-shadow: 0px 1px 2px rgba(60, 64, 67, 0.3), 0px 1px 3px 1px rgba(60, 64, 67, 0.15);\n",
              "      fill: #174EA6;\n",
              "    }\n",
              "\n",
              "    [theme=dark] .colab-df-convert {\n",
              "      background-color: #3B4455;\n",
              "      fill: #D2E3FC;\n",
              "    }\n",
              "\n",
              "    [theme=dark] .colab-df-convert:hover {\n",
              "      background-color: #434B5C;\n",
              "      box-shadow: 0px 1px 3px 1px rgba(0, 0, 0, 0.15);\n",
              "      filter: drop-shadow(0px 1px 2px rgba(0, 0, 0, 0.3));\n",
              "      fill: #FFFFFF;\n",
              "    }\n",
              "  </style>\n",
              "\n",
              "      <script>\n",
              "        const buttonEl =\n",
              "          document.querySelector('#df-bad21989-d583-4ece-b12b-9ac20cb458bf button.colab-df-convert');\n",
              "        buttonEl.style.display =\n",
              "          google.colab.kernel.accessAllowed ? 'block' : 'none';\n",
              "\n",
              "        async function convertToInteractive(key) {\n",
              "          const element = document.querySelector('#df-bad21989-d583-4ece-b12b-9ac20cb458bf');\n",
              "          const dataTable =\n",
              "            await google.colab.kernel.invokeFunction('convertToInteractive',\n",
              "                                                     [key], {});\n",
              "          if (!dataTable) return;\n",
              "\n",
              "          const docLinkHtml = 'Like what you see? Visit the ' +\n",
              "            '<a target=\"_blank\" href=https://colab.research.google.com/notebooks/data_table.ipynb>data table notebook</a>'\n",
              "            + ' to learn more about interactive tables.';\n",
              "          element.innerHTML = '';\n",
              "          dataTable['output_type'] = 'display_data';\n",
              "          await google.colab.output.renderOutput(dataTable, element);\n",
              "          const docLink = document.createElement('div');\n",
              "          docLink.innerHTML = docLinkHtml;\n",
              "          element.appendChild(docLink);\n",
              "        }\n",
              "      </script>\n",
              "    </div>\n",
              "  </div>\n",
              "  "
            ],
            "text/plain": [
              "       ID              Side_Effect          Vaccine   Age Sex\n",
              "0  916600                Dysphagia          MODERNA  33.0   F\n",
              "1  916601                  Anxiety          MODERNA  73.0   F\n",
              "2  916602         Chest discomfort  PFIZER\\BIONTECH  23.0   F\n",
              "3  916603                Dizziness          MODERNA  58.0   F\n",
              "4  916604  Injection site erythema          MODERNA  47.0   F"
            ]
          },
          "execution_count": 322,
          "metadata": {},
          "output_type": "execute_result"
        }
      ],
      "source": [
        "# Changing the names of columns\n",
        "vaers = vaers.rename(columns={'VAERS_ID':'ID', 'VAX_MANU':'Vaccine', 'AGE_YRS':'Age', 'SEX':'Sex', 'SYMPTOM1':'Side_Effect'})\n",
        "vaers.head()"
      ]
    },
    {
      "cell_type": "code",
      "execution_count": null,
      "metadata": {
        "id": "LhibTCr0TMvS"
      },
      "outputs": [],
      "source": [
        "c = vaers.groupby(['Side_Effect'])['ID'].count().nlargest(100)"
      ]
    },
    {
      "cell_type": "code",
      "execution_count": null,
      "metadata": {
        "id": "PlAIlsdLQJ11"
      },
      "outputs": [],
      "source": [
        "count = vaers['Vaccine'].value_counts()"
      ]
    },
    {
      "cell_type": "code",
      "execution_count": null,
      "metadata": {
        "id": "tEIuRvMVwteO"
      },
      "outputs": [],
      "source": [
        "count = vaers['Age'].value_counts()"
      ]
    },
    {
      "cell_type": "code",
      "execution_count": null,
      "metadata": {
        "id": "E8OLu2UZRkdl"
      },
      "outputs": [],
      "source": [
        "with pd.option_context('display.max_rows', None, 'display.max_columns', None):  # more options can be specified also\n",
        "    print(c)"
      ]
    },
    {
      "cell_type": "code",
      "execution_count": null,
      "metadata": {
        "id": "e3NT7ICGUjbU"
      },
      "outputs": [],
      "source": [
        "temp = vaers.copy()"
      ]
    },
    {
      "cell_type": "code",
      "execution_count": null,
      "metadata": {
        "id": "W1lmfep-UlYI"
      },
      "outputs": [],
      "source": [
        "vaers = temp.copy()\n",
        "vaers"
      ]
    },
    {
      "cell_type": "markdown",
      "metadata": {
        "id": "JHZeYbboSAsQ"
      },
      "source": [
        "##Feature Extraction"
      ]
    },
    {
      "cell_type": "code",
      "execution_count": null,
      "metadata": {
        "colab": {
          "base_uri": "https://localhost:8080/"
        },
        "id": "F-oY71ZHpfkc",
        "outputId": "9f48ce4f-5b2b-4899-a629-ac522b0368d1"
      },
      "outputs": [
        {
          "name": "stdout",
          "output_type": "stream",
          "text": [
            "\u001b[?25l\r\u001b[K     |██████▌                         | 10 kB 20.3 MB/s eta 0:00:01\r\u001b[K     |█████████████                   | 20 kB 18.2 MB/s eta 0:00:01\r\u001b[K     |███████████████████▌            | 30 kB 12.3 MB/s eta 0:00:01\r\u001b[K     |██████████████████████████      | 40 kB 10.2 MB/s eta 0:00:01\r\u001b[K     |████████████████████████████████| 50 kB 2.8 MB/s \n",
            "\u001b[?25h  Building wheel for python-Levenshtein (setup.py) ... \u001b[?25l\u001b[?25hdone\n"
          ]
        }
      ],
      "source": [
        "! pip install fuzzywuzzy -q\n",
        "! pip install python-Levenshtein -q"
      ]
    },
    {
      "cell_type": "code",
      "execution_count": null,
      "metadata": {
        "id": "yZ5FLPwTqWbr"
      },
      "outputs": [],
      "source": [
        "from fuzzywuzzy import fuzz\n",
        "from fuzzywuzzy import process"
      ]
    },
    {
      "cell_type": "code",
      "execution_count": null,
      "metadata": {
        "colab": {
          "base_uri": "https://localhost:8080/"
        },
        "id": "CuQGvrqwx5os",
        "outputId": "15861efd-ded9-4a4c-c763-558f11e75070"
      },
      "outputs": [
        {
          "name": "stdout",
          "output_type": "stream",
          "text": [
            "['Headache', 'Pain', 'Swelling']\n"
          ]
        }
      ],
      "source": [
        "# Side Effects based on most common side effects of Covid 19 according \n",
        "# to https://www.cdc.gov/coronavirus/2019-ncov/vaccines/expect/after.html\n",
        "# More side effects can bee added to 'side_effects' list, but it might affect \n",
        "# the overall accuracy and performance\n",
        "side_effects = ['Headache', 'Pain', 'Swelling']\n",
        "print(side_effects)"
      ]
    },
    {
      "cell_type": "code",
      "execution_count": null,
      "metadata": {
        "id": "SvKisSeBXzcL"
      },
      "outputs": [],
      "source": [
        "# Function to perform string matching\n",
        "def checker(wrong_options,correct_options):\n",
        "  names_array=[]\n",
        "  ratio_array=[]\n",
        "  for wrong_option in wrong_options:\n",
        "      if wrong_option in correct_options:\n",
        "          names_array.append(wrong_option)\n",
        "          ratio_array.append('100')\n",
        "      else:   \n",
        "          x=process.extractOne(wrong_option,correct_options,scorer=fuzz.token_set_ratio, score_cutoff=90)\n",
        "          if (x != None):\n",
        "            names_array.append(x[0])\n",
        "            ratio_array.append(x[1])\n",
        "          else:\n",
        "            names_array.append(None)\n",
        "            ratio_array.append(None)\n",
        "  return names_array,ratio_array"
      ]
    },
    {
      "cell_type": "code",
      "execution_count": null,
      "metadata": {
        "id": "xYEQG3sGYHke"
      },
      "outputs": [],
      "source": [
        "# Convert symptoms table to list\n",
        "str2Match = vaers['Side_Effect'].tolist()\n",
        "strOptions = side_effects"
      ]
    },
    {
      "cell_type": "code",
      "execution_count": null,
      "metadata": {
        "id": "lI6lg7b9Ywv0"
      },
      "outputs": [],
      "source": [
        "# Perform string matching on symptoms column\n",
        "name_match,ratio_match=checker(str2Match,strOptions)"
      ]
    },
    {
      "cell_type": "code",
      "execution_count": null,
      "metadata": {
        "colab": {
          "base_uri": "https://localhost:8080/"
        },
        "id": "fwSErNfYnINO",
        "outputId": "d09a9620-542e-47f0-d5e5-7b714d7ebac1"
      },
      "outputs": [
        {
          "data": {
            "text/plain": [
              "362006"
            ]
          },
          "execution_count": 429,
          "metadata": {},
          "output_type": "execute_result"
        }
      ],
      "source": [
        "# Replace the symptoms with the newly matched ones\n",
        "vaers['Side_Effect'] = pd.Series(name_match)\n",
        "len(vaers)"
      ]
    },
    {
      "cell_type": "markdown",
      "metadata": {
        "id": "FG2xE0g7zp97"
      },
      "source": [
        "##Final DataFrame"
      ]
    },
    {
      "cell_type": "code",
      "execution_count": null,
      "metadata": {
        "colab": {
          "base_uri": "https://localhost:8080/"
        },
        "id": "i1dHRp6e24T7",
        "outputId": "3a76f335-1b65-49f5-e66f-ad5e75e025f5"
      },
      "outputs": [
        {
          "data": {
            "text/plain": [
              "19743"
            ]
          },
          "execution_count": 430,
          "metadata": {},
          "output_type": "execute_result"
        }
      ],
      "source": [
        "#Removing NaN values\n",
        "vaers = vaers.dropna()\n",
        "vaers = vaers.reset_index(drop=True)\n",
        "len(vaers)"
      ]
    },
    {
      "cell_type": "code",
      "execution_count": null,
      "metadata": {
        "colab": {
          "base_uri": "https://localhost:8080/"
        },
        "id": "H0puBKCx69ML",
        "outputId": "ec35970b-8e08-4f29-9780-f4238ca5b284"
      },
      "outputs": [
        {
          "data": {
            "text/plain": [
              "ID             False\n",
              "Side_Effect    False\n",
              "Vaccine        False\n",
              "Age            False\n",
              "Sex            False\n",
              "dtype: bool"
            ]
          },
          "execution_count": 431,
          "metadata": {},
          "output_type": "execute_result"
        }
      ],
      "source": [
        "#Confirm if any column has NaN value\n",
        "vaers.isna().any()"
      ]
    },
    {
      "cell_type": "code",
      "execution_count": null,
      "metadata": {
        "id": "VekGsPzhoY7D"
      },
      "outputs": [],
      "source": [
        "# Extract the processed dataset, download it and then save it in your google drive under vaers folder\n",
        "vaers.to_csv(r'data/processed_vaers_dataset.csv', index = False)"
      ]
    },
    {
      "cell_type": "markdown",
      "metadata": {
        "id": "EbcmZKu-90kh"
      },
      "source": [
        "#Random Forest Classification"
      ]
    },
    {
      "cell_type": "code",
      "execution_count": null,
      "metadata": {
        "id": "ju2YIcJa162I"
      },
      "outputs": [],
      "source": [
        "! pip install tensorflow_decision_forests -q\n",
        "! pip install wurlitzer -q"
      ]
    },
    {
      "cell_type": "code",
      "execution_count": null,
      "metadata": {
        "id": "KNsOzC4bAFWH"
      },
      "outputs": [],
      "source": [
        "import tensorflow_decision_forests as tfdf\n",
        "\n",
        "import os\n",
        "import numpy as np\n",
        "import pandas as pd\n",
        "import tensorflow as tf\n",
        "import math\n",
        "\n",
        "try:\n",
        "  from wurlitzer import sys_pipes\n",
        "except:\n",
        "  from colabtools.googlelog import CaptureLog as sys_pipes\n",
        "\n",
        "from IPython.core.magic import register_line_magic\n",
        "from IPython.display import Javascript"
      ]
    },
    {
      "cell_type": "code",
      "execution_count": null,
      "metadata": {
        "id": "rcvN_RKzANVd"
      },
      "outputs": [],
      "source": [
        "# Some of the model training logs can cover the full\n",
        "# screen if not compressed to a smaller viewport.\n",
        "# This magic allows setting a max height for a cell.\n",
        "@register_line_magic\n",
        "def set_cell_height(size):\n",
        "  display(\n",
        "      Javascript(\"google.colab.output.setIframeHeight(0, true, {maxHeight: \" +\n",
        "                 str(size) + \"})\"))"
      ]
    },
    {
      "cell_type": "markdown",
      "metadata": {
        "id": "Bi_mzyGbw-2u"
      },
      "source": [
        "## Data Preperation"
      ]
    },
    {
      "cell_type": "code",
      "execution_count": null,
      "metadata": {
        "id": "H4Tp-cyfAXSS"
      },
      "outputs": [],
      "source": [
        "# using One-Hot Encoder to generate binary values using get_dummies\n",
        "vaers_rf = pd.get_dummies(vaers, columns=[\"Vaccine\", \"Sex\"])\n",
        "vaers_rf = vaers_rf.iloc[:,1:7]\n",
        "vaers_rf = vaers_rf.astype({\"Age\": int, \"Vaccine_MODERNA\": int, \"Vaccine_PFIZER\\BIONTECH\": int, \"Sex_F\": int, \"Sex_M\": int})\n",
        "vaers_rf"
      ]
    },
    {
      "cell_type": "code",
      "execution_count": null,
      "metadata": {
        "colab": {
          "base_uri": "https://localhost:8080/"
        },
        "id": "fIop9aziANcz",
        "outputId": "4082e262-9ce1-47ff-9434-0c343a7c7bbd"
      },
      "outputs": [
        {
          "name": "stdout",
          "output_type": "stream",
          "text": [
            "Label classes: ['Swelling', 'Pain', 'Headache']\n"
          ]
        }
      ],
      "source": [
        "# Encode the categorical label into an integer.\n",
        "#\n",
        "# Details:\n",
        "# This stage is necessary if your classification label is represented as a\n",
        "# string. Note: Keras expected classification labels to be integers.\n",
        "\n",
        "# Name of the label column.\n",
        "label = \"Side_Effect\"\n",
        "\n",
        "classes = vaers_rf[label].unique().tolist()\n",
        "print(f\"Label classes: {classes}\")\n",
        "\n",
        "vaers_rf[label] = vaers_rf[label].map(classes.index)"
      ]
    },
    {
      "cell_type": "code",
      "execution_count": null,
      "metadata": {
        "colab": {
          "base_uri": "https://localhost:8080/"
        },
        "id": "2BTRiA1kANjF",
        "outputId": "f8d64438-ffcb-43f0-a8c9-aadf62e18898"
      },
      "outputs": [
        {
          "name": "stdout",
          "output_type": "stream",
          "text": [
            "15900 examples in training, 3843 examples for testing.\n"
          ]
        }
      ],
      "source": [
        "# Split the dataset into a training and a testing dataset.\n",
        "\n",
        "def split_dataset(dataset, test_ratio=0.20):\n",
        "  \"\"\"Splits a panda dataframe in two.\"\"\"\n",
        "  test_indices = np.random.rand(len(dataset)) < test_ratio\n",
        "  return dataset[~test_indices], dataset[test_indices]\n",
        "\n",
        "\n",
        "train_ds_pd, test_ds_pd = split_dataset(vaers_rf)\n",
        "print(\"{} examples in training, {} examples for testing.\".format(\n",
        "    len(train_ds_pd), len(test_ds_pd)))"
      ]
    },
    {
      "cell_type": "code",
      "execution_count": null,
      "metadata": {
        "id": "5iRJOjuoAktM"
      },
      "outputs": [],
      "source": [
        "train_ds = tfdf.keras.pd_dataframe_to_tf_dataset(train_ds_pd, label=label)\n",
        "test_ds = tfdf.keras.pd_dataframe_to_tf_dataset(test_ds_pd, label=label)"
      ]
    },
    {
      "cell_type": "markdown",
      "metadata": {
        "id": "CDjy3S0YxCjI"
      },
      "source": [
        "## Model Training"
      ]
    },
    {
      "cell_type": "code",
      "execution_count": null,
      "metadata": {
        "colab": {
          "base_uri": "https://localhost:8080/",
          "height": 173
        },
        "id": "MEhhIrLHAkxH",
        "outputId": "7a4d8aa7-a8a9-48cb-b054-6755547cf22e"
      },
      "outputs": [
        {
          "data": {
            "application/javascript": "google.colab.output.setIframeHeight(0, true, {maxHeight: 300})",
            "text/plain": [
              "<IPython.core.display.Javascript object>"
            ]
          },
          "metadata": {},
          "output_type": "display_data"
        },
        {
          "name": "stdout",
          "output_type": "stream",
          "text": [
            "Use /tmp/tmp5dt8vbdl as temporary training directory\n",
            "Starting reading the dataset\n",
            "13/16 [=======================>......] - ETA: 0s\n",
            "Dataset read in 0:00:00.250674\n",
            "Training model\n",
            "Model trained in 0:00:05.800333\n",
            "Compiling model\n",
            "16/16 [==============================] - 7s 422ms/step\n"
          ]
        },
        {
          "data": {
            "text/plain": [
              "<keras.callbacks.History at 0x7fdba03ce990>"
            ]
          },
          "execution_count": 436,
          "metadata": {},
          "output_type": "execute_result"
        }
      ],
      "source": [
        "%set_cell_height 300\n",
        "\n",
        "# Specify the model.\n",
        "rf_model = tfdf.keras.RandomForestModel()\n",
        "\n",
        "# Optionally, add evaluation metrics.\n",
        "rf_model.compile(\n",
        "    metrics=[\"accuracy\"])\n",
        "\n",
        "# Train the model.\n",
        "# \"sys_pipes\" is optional. It enables the display of the training logs.\n",
        "with sys_pipes():\n",
        "  rf_model.fit(x=train_ds)"
      ]
    },
    {
      "cell_type": "code",
      "execution_count": null,
      "metadata": {
        "colab": {
          "base_uri": "https://localhost:8080/",
          "height": 300
        },
        "id": "O_UKVXAkqzFX",
        "outputId": "406abeae-ff75-4224-b040-db8c74b7f17e"
      },
      "outputs": [
        {
          "data": {
            "application/javascript": "google.colab.output.setIframeHeight(0, true, {maxHeight: 300})",
            "text/plain": [
              "<IPython.core.display.Javascript object>"
            ]
          },
          "metadata": {},
          "output_type": "display_data"
        },
        {
          "name": "stdout",
          "output_type": "stream",
          "text": [
            "Model: \"random_forest_model_13\"\n",
            "_________________________________________________________________\n",
            " Layer (type)                Output Shape              Param #   \n",
            "=================================================================\n",
            "=================================================================\n",
            "Total params: 1\n",
            "Trainable params: 0\n",
            "Non-trainable params: 1\n",
            "_________________________________________________________________\n",
            "Type: \"RANDOM_FOREST\"\n",
            "Task: CLASSIFICATION\n",
            "Label: \"__LABEL\"\n",
            "\n",
            "Input Features (5):\n",
            "\tAge\n",
            "\tSex_F\n",
            "\tSex_M\n",
            "\tVaccine_MODERNA\n",
            "\tVaccine_PFIZER\\BIONTECH\n",
            "\n",
            "No weights\n",
            "\n",
            "Variable Importance: MEAN_MIN_DEPTH:\n",
            "    1.                 \"__LABEL\" 10.524953 ################\n",
            "    2.         \"Vaccine_MODERNA\"  7.958856 ############\n",
            "    3. \"Vaccine_PFIZER\\BIONTECH\"  7.815764 ###########\n",
            "    4.                   \"Sex_M\"  7.281301 ##########\n",
            "    5.                   \"Sex_F\"  7.161899 ##########\n",
            "    6.                     \"Age\"  0.188107 \n",
            "\n",
            "Variable Importance: NUM_AS_ROOT:\n",
            "    1.                     \"Age\" 245.000000 ################\n",
            "    2.                   \"Sex_M\" 22.000000 #\n",
            "    3.                   \"Sex_F\" 17.000000 \n",
            "    4. \"Vaccine_PFIZER\\BIONTECH\"  9.000000 \n",
            "    5.         \"Vaccine_MODERNA\"  7.000000 \n",
            "\n",
            "Variable Importance: NUM_NODES:\n",
            "    1.                     \"Age\" 70117.000000 ################\n",
            "    2.         \"Vaccine_MODERNA\" 5643.000000 \n",
            "    3. \"Vaccine_PFIZER\\BIONTECH\" 5565.000000 \n",
            "    4.                   \"Sex_M\" 3992.000000 \n",
            "    5.                   \"Sex_F\" 3874.000000 \n",
            "\n",
            "Variable Importance: SUM_SCORE:\n",
            "    1.                     \"Age\" 158929.908971 ################\n",
            "    2.         \"Vaccine_MODERNA\" 12878.069348 \n",
            "    3. \"Vaccine_PFIZER\\BIONTECH\" 12682.337362 \n",
            "    4.                   \"Sex_M\" 8988.903670 \n",
            "    5.                   \"Sex_F\" 8456.227056 \n",
            "\n",
            "\n",
            "\n",
            "Winner take all: true\n",
            "Out-of-bag evaluation: accuracy:0.624088 logloss:11.094\n",
            "Number of trees: 300\n",
            "Total number of nodes: 178682\n",
            "\n",
            "Number of nodes by tree:\n",
            "Count: 300 Average: 595.607 StdDev: 34.865\n",
            "Min: 453 Max: 641 Ignored: 0\n",
            "----------------------------------------------\n",
            "[ 453, 462)  2   0.67%   0.67%\n",
            "[ 462, 471)  0   0.00%   0.67%\n",
            "[ 471, 481)  0   0.00%   0.67%\n",
            "[ 481, 490)  2   0.67%   1.33%\n",
            "[ 490, 500)  1   0.33%   1.67%\n",
            "[ 500, 509)  2   0.67%   2.33%\n",
            "[ 509, 519)  6   2.00%   4.33% #\n",
            "[ 519, 528)  6   2.00%   6.33% #\n",
            "[ 528, 538)  6   2.00%   8.33% #\n",
            "[ 538, 547)  3   1.00%   9.33%\n",
            "[ 547, 556) 14   4.67%  14.00% ##\n",
            "[ 556, 566) 11   3.67%  17.67% ##\n",
            "[ 566, 575) 13   4.33%  22.00% ##\n",
            "[ 575, 585) 20   6.67%  28.67% ###\n",
            "[ 585, 594) 25   8.33%  37.00% ####\n",
            "[ 594, 604) 28   9.33%  46.33% ####\n",
            "[ 604, 613) 33  11.00%  57.33% #####\n",
            "[ 613, 623) 51  17.00%  74.33% ########\n",
            "[ 623, 632) 64  21.33%  95.67% ##########\n",
            "[ 632, 641] 13   4.33% 100.00% ##\n",
            "\n",
            "Depth by leafs:\n",
            "Count: 89491 Average: 10.5101 StdDev: 2.59872\n",
            "Min: 1 Max: 15 Ignored: 0\n",
            "----------------------------------------------\n",
            "[  1,  2)     4   0.00%   0.00%\n",
            "[  2,  3)    36   0.04%   0.04%\n",
            "[  3,  4)   240   0.27%   0.31%\n",
            "[  4,  5)   588   0.66%   0.97%\n",
            "[  5,  6)  1419   1.59%   2.56% #\n",
            "[  6,  7)  3217   3.59%   6.15% ###\n",
            "[  7,  8)  6117   6.84%  12.99% #####\n",
            "[  8,  9)  8853   9.89%  22.88% #######\n",
            "[  9, 10) 11615  12.98%  35.86% #########\n",
            "[ 10, 11) 12525  14.00%  49.85% ##########\n",
            "[ 11, 12) 12471  13.94%  63.79% ##########\n",
            "[ 12, 13) 10779  12.04%  75.83% #########\n",
            "[ 13, 14)  8485   9.48%  85.31% #######\n",
            "[ 14, 15)  6382   7.13%  92.45% #####\n",
            "[ 15, 15]  6760   7.55% 100.00% #####\n",
            "\n",
            "Number of training obs by leaf:\n",
            "Count: 89491 Average: 53.3014 StdDev: 65.4557\n",
            "Min: 5 Max: 4690 Ignored: 0\n",
            "----------------------------------------------\n",
            "[    5,  239) 88821  99.25%  99.25% ##########\n",
            "[  239,  473)   461   0.52%  99.77%\n",
            "[  473,  707)   114   0.13%  99.89%\n",
            "[  707,  942)    44   0.05%  99.94%\n",
            "[  942, 1176)    24   0.03%  99.97%\n",
            "[ 1176, 1410)     7   0.01%  99.98%\n",
            "[ 1410, 1645)     4   0.00%  99.98%\n",
            "[ 1645, 1879)     7   0.01%  99.99%\n",
            "[ 1879, 2113)     2   0.00%  99.99%\n",
            "[ 2113, 2348)     0   0.00%  99.99%\n",
            "[ 2348, 2582)     2   0.00%  99.99%\n",
            "[ 2582, 2816)     1   0.00% 100.00%\n",
            "[ 2816, 3050)     1   0.00% 100.00%\n",
            "[ 3050, 3285)     0   0.00% 100.00%\n",
            "[ 3285, 3519)     0   0.00% 100.00%\n",
            "[ 3519, 3753)     1   0.00% 100.00%\n",
            "[ 3753, 3988)     1   0.00% 100.00%\n",
            "[ 3988, 4222)     0   0.00% 100.00%\n",
            "[ 4222, 4456)     0   0.00% 100.00%\n",
            "[ 4456, 4690]     1   0.00% 100.00%\n",
            "\n",
            "Attribute in nodes:\n",
            "\t70117 : Age [NUMERICAL]\n",
            "\t5643 : Vaccine_MODERNA [NUMERICAL]\n",
            "\t5565 : Vaccine_PFIZER\\BIONTECH [NUMERICAL]\n",
            "\t3992 : Sex_M [NUMERICAL]\n",
            "\t3874 : Sex_F [NUMERICAL]\n",
            "\n",
            "Attribute in nodes with depth <= 0:\n",
            "\t245 : Age [NUMERICAL]\n",
            "\t22 : Sex_M [NUMERICAL]\n",
            "\t17 : Sex_F [NUMERICAL]\n",
            "\t9 : Vaccine_PFIZER\\BIONTECH [NUMERICAL]\n",
            "\t7 : Vaccine_MODERNA [NUMERICAL]\n",
            "\n",
            "Attribute in nodes with depth <= 1:\n",
            "\t665 : Age [NUMERICAL]\n",
            "\t71 : Sex_F [NUMERICAL]\n",
            "\t58 : Sex_M [NUMERICAL]\n",
            "\t55 : Vaccine_PFIZER\\BIONTECH [NUMERICAL]\n",
            "\t47 : Vaccine_MODERNA [NUMERICAL]\n",
            "\n",
            "Attribute in nodes with depth <= 2:\n",
            "\t1492 : Age [NUMERICAL]\n",
            "\t145 : Sex_F [NUMERICAL]\n",
            "\t141 : Vaccine_PFIZER\\BIONTECH [NUMERICAL]\n",
            "\t138 : Sex_M [NUMERICAL]\n",
            "\t136 : Vaccine_MODERNA [NUMERICAL]\n",
            "\n",
            "Attribute in nodes with depth <= 3:\n",
            "\t2961 : Age [NUMERICAL]\n",
            "\t299 : Vaccine_PFIZER\\BIONTECH [NUMERICAL]\n",
            "\t294 : Vaccine_MODERNA [NUMERICAL]\n",
            "\t287 : Sex_F [NUMERICAL]\n",
            "\t283 : Sex_M [NUMERICAL]\n",
            "\n",
            "Attribute in nodes with depth <= 5:\n",
            "\t9331 : Age [NUMERICAL]\n",
            "\t1106 : Vaccine_PFIZER\\BIONTECH [NUMERICAL]\n",
            "\t1098 : Vaccine_MODERNA [NUMERICAL]\n",
            "\t964 : Sex_M [NUMERICAL]\n",
            "\t874 : Sex_F [NUMERICAL]\n",
            "\n",
            "Condition type in nodes:\n",
            "\t89191 : HigherCondition\n",
            "Condition type in nodes with depth <= 0:\n",
            "\t300 : HigherCondition\n",
            "Condition type in nodes with depth <= 1:\n",
            "\t896 : HigherCondition\n",
            "Condition type in nodes with depth <= 2:\n",
            "\t2052 : HigherCondition\n",
            "Condition type in nodes with depth <= 3:\n",
            "\t4124 : HigherCondition\n",
            "Condition type in nodes with depth <= 5:\n",
            "\t13373 : HigherCondition\n",
            "Node format: NOT_SET\n",
            "\n",
            "Training OOB:\n",
            "\ttrees: 1, Out-of-bag evaluation: accuracy:0.618621 logloss:13.7463\n",
            "\ttrees: 11, Out-of-bag evaluation: accuracy:0.622957 logloss:12.9686\n",
            "\ttrees: 21, Out-of-bag evaluation: accuracy:0.624465 logloss:12.649\n",
            "\ttrees: 31, Out-of-bag evaluation: accuracy:0.624403 logloss:12.4727\n",
            "\ttrees: 41, Out-of-bag evaluation: accuracy:0.623774 logloss:12.3225\n",
            "\ttrees: 51, Out-of-bag evaluation: accuracy:0.624025 logloss:12.1878\n",
            "\ttrees: 61, Out-of-bag evaluation: accuracy:0.624214 logloss:12.1149\n",
            "\ttrees: 71, Out-of-bag evaluation: accuracy:0.624214 logloss:12.0504\n",
            "\ttrees: 81, Out-of-bag evaluation: accuracy:0.623962 logloss:12.0151\n",
            "\ttrees: 91, Out-of-bag evaluation: accuracy:0.623899 logloss:11.9348\n",
            "\ttrees: 101, Out-of-bag evaluation: accuracy:0.624214 logloss:11.8609\n",
            "\ttrees: 111, Out-of-bag evaluation: accuracy:0.624465 logloss:11.824\n",
            "\ttrees: 121, Out-of-bag evaluation: accuracy:0.624025 logloss:11.7644\n",
            "\ttrees: 131, Out-of-bag evaluation: accuracy:0.624277 logloss:11.6802\n",
            "\ttrees: 141, Out-of-bag evaluation: accuracy:0.624088 logloss:11.5656\n",
            "\ttrees: 151, Out-of-bag evaluation: accuracy:0.624214 logloss:11.4935\n",
            "\ttrees: 161, Out-of-bag evaluation: accuracy:0.624465 logloss:11.4601\n",
            "\ttrees: 171, Out-of-bag evaluation: accuracy:0.623836 logloss:11.4095\n",
            "\ttrees: 181, Out-of-bag evaluation: accuracy:0.623899 logloss:11.3804\n",
            "\ttrees: 191, Out-of-bag evaluation: accuracy:0.624025 logloss:11.3271\n",
            "\ttrees: 201, Out-of-bag evaluation: accuracy:0.623836 logloss:11.3083\n",
            "\ttrees: 211, Out-of-bag evaluation: accuracy:0.623774 logloss:11.2951\n",
            "\ttrees: 221, Out-of-bag evaluation: accuracy:0.623899 logloss:11.2688\n",
            "\ttrees: 231, Out-of-bag evaluation: accuracy:0.623962 logloss:11.232\n",
            "\ttrees: 241, Out-of-bag evaluation: accuracy:0.623962 logloss:11.2145\n",
            "\ttrees: 251, Out-of-bag evaluation: accuracy:0.623899 logloss:11.1968\n",
            "\ttrees: 261, Out-of-bag evaluation: accuracy:0.624025 logloss:11.1835\n",
            "\ttrees: 271, Out-of-bag evaluation: accuracy:0.624088 logloss:11.1349\n",
            "\ttrees: 281, Out-of-bag evaluation: accuracy:0.624151 logloss:11.1121\n",
            "\ttrees: 291, Out-of-bag evaluation: accuracy:0.624088 logloss:11.1051\n",
            "\ttrees: 300, Out-of-bag evaluation: accuracy:0.624088 logloss:11.094\n",
            "\n"
          ]
        }
      ],
      "source": [
        "# Summary of the Model\n",
        "%set_cell_height 300\n",
        "rf_model.summary()"
      ]
    },
    {
      "cell_type": "markdown",
      "metadata": {
        "id": "ApUczM1sxRK5"
      },
      "source": [
        "## Model Evaluation"
      ]
    },
    {
      "cell_type": "code",
      "execution_count": null,
      "metadata": {
        "colab": {
          "base_uri": "https://localhost:8080/"
        },
        "id": "eGHaqZ47Ng-l",
        "outputId": "409640e9-9ce3-4c0d-f4d2-3d35adc90460"
      },
      "outputs": [
        {
          "name": "stdout",
          "output_type": "stream",
          "text": [
            "4/4 [==============================] - 0s 58ms/step - loss: 0.0000e+00 - accuracy: 0.6211\n",
            "\n",
            "loss: 0.0000\n",
            "accuracy: 0.6211\n"
          ]
        }
      ],
      "source": [
        "# Model Evaluation on Test dataset\n",
        "evaluation = rf_model.evaluate(test_ds, return_dict=True)\n",
        "print()\n",
        "\n",
        "for name, value in evaluation.items():\n",
        "  print(f\"{name}: {value:.4f}\")"
      ]
    },
    {
      "cell_type": "code",
      "execution_count": null,
      "metadata": {
        "colab": {
          "base_uri": "https://localhost:8080/"
        },
        "id": "Q1Xx56WGxXV8",
        "outputId": "b3f4c580-4cea-42ee-c32a-c18c61365b31"
      },
      "outputs": [
        {
          "data": {
            "text/plain": [
              "Evaluation(num_examples=15900, accuracy=0.6240880503144655, loss=11.09398892861012, rmse=None, ndcg=None, aucs=None)"
            ]
          },
          "execution_count": 439,
          "metadata": {},
          "output_type": "execute_result"
        }
      ],
      "source": [
        "# General Evaluation of the model\n",
        "rf_model.make_inspector().evaluation()"
      ]
    },
    {
      "cell_type": "markdown",
      "metadata": {
        "id": "M2m-vCd4xZP_"
      },
      "source": [
        "## Save Model and Graph Plotting"
      ]
    },
    {
      "cell_type": "code",
      "execution_count": null,
      "metadata": {
        "id": "3FfEmHuPyM09"
      },
      "outputs": [],
      "source": [
        "! mkdir model"
      ]
    },
    {
      "cell_type": "code",
      "execution_count": null,
      "metadata": {
        "id": "2xc_0uPIyGFc"
      },
      "outputs": [],
      "source": [
        "# Save Model\n",
        "rf_model.save(\"model/RFModel\")"
      ]
    },
    {
      "cell_type": "code",
      "execution_count": null,
      "metadata": {
        "colab": {
          "base_uri": "https://localhost:8080/",
          "height": 404
        },
        "id": "LRaz4afFON7z",
        "outputId": "6631a0e4-3c1f-4022-c500-5d7e0a2431e0"
      },
      "outputs": [
        {
          "data": {
            "text/html": [
              "\n",
              "<script src=\"https://d3js.org/d3.v6.min.js\"></script>\n",
              "<div id=\"tree_plot_ce279b1380a44824a7f8f4af0c886534\"></div>\n",
              "<script>\n",
              "/*\n",
              " * Copyright 2021 Google LLC.\n",
              " * Licensed under the Apache License, Version 2.0 (the \"License\");\n",
              " * you may not use this file except in compliance with the License.\n",
              " * You may obtain a copy of the License at\n",
              " *\n",
              " *     https://www.apache.org/licenses/LICENSE-2.0\n",
              " *\n",
              " * Unless required by applicable law or agreed to in writing, software\n",
              " * distributed under the License is distributed on an \"AS IS\" BASIS,\n",
              " * WITHOUT WARRANTIES OR CONDITIONS OF ANY KIND, either express or implied.\n",
              " * See the License for the specific language governing permissions and\n",
              " * limitations under the License.\n",
              " */\n",
              "\n",
              "/**\n",
              " *  Plotting of decision trees generated by TF-DF.\n",
              " *\n",
              " *  A tree is a recursive structure of node objects.\n",
              " *  A node contains one or more of the following components:\n",
              " *\n",
              " *    - A value: Representing the output of the node. If the node is not a leaf,\n",
              " *      the value is only present for analysis i.e. it is not used for\n",
              " *      predictions.\n",
              " *\n",
              " *    - A condition : For non-leaf nodes, the condition (also known as split)\n",
              " *      defines a binary test to branch to the positive or negative child.\n",
              " *\n",
              " *    - An explanation: Generally a plot showing the relation between the label\n",
              " *      and the condition to give insights about the effect of the condition.\n",
              " *\n",
              " *    - Two children : For non-leaf nodes, the children nodes. The first\n",
              " *      children (i.e. \"node.children[0]\") is the negative children (drawn in\n",
              " *      red). The second children is the positive one (drawn in green).\n",
              " *\n",
              " */\n",
              "\n",
              "/**\n",
              " * Plots a single decision tree into a DOM element.\n",
              " * @param {!options} options Dictionary of configurations.\n",
              " * @param {!tree} raw_tree Recursive tree structure.\n",
              " * @param {string} canvas_id Id of the output dom element.\n",
              " */\n",
              "function display_tree(options, raw_tree, canvas_id) {\n",
              "  console.log(options);\n",
              "\n",
              "  // Determine the node placement.\n",
              "  const tree_struct = d3.tree().nodeSize(\n",
              "      [options.node_y_offset, options.node_x_offset])(d3.hierarchy(raw_tree));\n",
              "\n",
              "  // Boundaries of the node placement.\n",
              "  let x_min = Infinity;\n",
              "  let x_max = -x_min;\n",
              "  let y_min = Infinity;\n",
              "  let y_max = -x_min;\n",
              "\n",
              "  tree_struct.each(d => {\n",
              "    if (d.x > x_max) x_max = d.x;\n",
              "    if (d.x < x_min) x_min = d.x;\n",
              "    if (d.y > y_max) y_max = d.y;\n",
              "    if (d.y < y_min) y_min = d.y;\n",
              "  });\n",
              "\n",
              "  // Size of the plot.\n",
              "  const width = y_max - y_min + options.node_x_size + options.margin * 2;\n",
              "  const height = x_max - x_min + options.node_y_size + options.margin * 2 +\n",
              "      options.node_y_offset - options.node_y_size;\n",
              "\n",
              "  const plot = d3.select(canvas_id);\n",
              "\n",
              "  // Tool tip\n",
              "  options.tooltip = plot.append('div')\n",
              "                        .attr('width', 100)\n",
              "                        .attr('height', 100)\n",
              "                        .style('padding', '4px')\n",
              "                        .style('background', '#fff')\n",
              "                        .style('box-shadow', '4px 4px 0px rgba(0,0,0,0.1)')\n",
              "                        .style('border', '1px solid black')\n",
              "                        .style('font-family', 'sans-serif')\n",
              "                        .style('font-size', options.font_size)\n",
              "                        .style('position', 'absolute')\n",
              "                        .style('z-index', '10')\n",
              "                        .attr('pointer-events', 'none')\n",
              "                        .style('display', 'none');\n",
              "\n",
              "  // Create canvas\n",
              "  const svg = plot.append('svg').attr('width', width).attr('height', height);\n",
              "  const graph =\n",
              "      svg.style('overflow', 'visible')\n",
              "          .append('g')\n",
              "          .attr('font-family', 'sans-serif')\n",
              "          .attr('font-size', options.font_size)\n",
              "          .attr(\n",
              "              'transform',\n",
              "              () => `translate(${options.margin},${\n",
              "                  - x_min + options.node_y_offset / 2 + options.margin})`);\n",
              "\n",
              "  // Plot bounding box.\n",
              "  if (options.show_plot_bounding_box) {\n",
              "    svg.append('rect')\n",
              "        .attr('width', width)\n",
              "        .attr('height', height)\n",
              "        .attr('fill', 'none')\n",
              "        .attr('stroke-width', 1.0)\n",
              "        .attr('stroke', 'black');\n",
              "  }\n",
              "\n",
              "  // Draw the edges.\n",
              "  display_edges(options, graph, tree_struct);\n",
              "\n",
              "  // Draw the nodes.\n",
              "  display_nodes(options, graph, tree_struct);\n",
              "}\n",
              "\n",
              "/**\n",
              " * Draw the nodes of the tree.\n",
              " * @param {!options} options Dictionary of configurations.\n",
              " * @param {!graph} graph D3 search handle containing the graph.\n",
              " * @param {!tree_struct} tree_struct Structure of the tree (node placement,\n",
              " *     data, etc.).\n",
              " */\n",
              "function display_nodes(options, graph, tree_struct) {\n",
              "  const nodes = graph.append('g')\n",
              "                    .selectAll('g')\n",
              "                    .data(tree_struct.descendants())\n",
              "                    .join('g')\n",
              "                    .attr('transform', d => `translate(${d.y},${d.x})`);\n",
              "\n",
              "  nodes.append('rect')\n",
              "      .attr('x', 0.5)\n",
              "      .attr('y', 0.5)\n",
              "      .attr('width', options.node_x_size)\n",
              "      .attr('height', options.node_y_size)\n",
              "      .attr('stroke', 'lightgrey')\n",
              "      .attr('stroke-width', 1)\n",
              "      .attr('fill', 'white')\n",
              "      .attr('y', -options.node_y_size / 2);\n",
              "\n",
              "  // Brackets on the right of condition nodes without children.\n",
              "  non_leaf_node_without_children =\n",
              "      nodes.filter(node => node.data.condition != null && node.children == null)\n",
              "          .append('g')\n",
              "          .attr('transform', `translate(${options.node_x_size},0)`);\n",
              "\n",
              "  non_leaf_node_without_children.append('path')\n",
              "      .attr('d', 'M0,0 C 10,0 0,10 10,10')\n",
              "      .attr('fill', 'none')\n",
              "      .attr('stroke-width', 1.0)\n",
              "      .attr('stroke', '#F00');\n",
              "\n",
              "  non_leaf_node_without_children.append('path')\n",
              "      .attr('d', 'M0,0 C 10,0 0,-10 10,-10')\n",
              "      .attr('fill', 'none')\n",
              "      .attr('stroke-width', 1.0)\n",
              "      .attr('stroke', '#0F0');\n",
              "\n",
              "  const node_content = nodes.append('g').attr(\n",
              "      'transform',\n",
              "      `translate(0,${options.node_padding - options.node_y_size / 2})`);\n",
              "\n",
              "  node_content.append(node => create_node_element(options, node));\n",
              "}\n",
              "\n",
              "/**\n",
              " * Creates the D3 content for a single node.\n",
              " * @param {!options} options Dictionary of configurations.\n",
              " * @param {!node} node Node to draw.\n",
              " * @return {!d3} D3 content.\n",
              " */\n",
              "function create_node_element(options, node) {\n",
              "  // Output accumulator.\n",
              "  let output = {\n",
              "    // Content to draw.\n",
              "    content: d3.create('svg:g'),\n",
              "    // Vertical offset to the next element to draw.\n",
              "    vertical_offset: 0\n",
              "  };\n",
              "\n",
              "  // Conditions.\n",
              "  if (node.data.condition != null) {\n",
              "    display_condition(options, node.data.condition, output);\n",
              "  }\n",
              "\n",
              "  // Values.\n",
              "  if (node.data.value != null) {\n",
              "    display_value(options, node.data.value, output);\n",
              "  }\n",
              "\n",
              "  // Explanations.\n",
              "  if (node.data.explanation != null) {\n",
              "    display_explanation(options, node.data.explanation, output);\n",
              "  }\n",
              "\n",
              "  return output.content.node();\n",
              "}\n",
              "\n",
              "\n",
              "/**\n",
              " * Adds a single line of text inside of a node.\n",
              " * @param {!options} options Dictionary of configurations.\n",
              " * @param {string} text Text to display.\n",
              " * @param {!output} output Output display accumulator.\n",
              " */\n",
              "function display_node_text(options, text, output) {\n",
              "  output.content.append('text')\n",
              "      .attr('x', options.node_padding)\n",
              "      .attr('y', output.vertical_offset)\n",
              "      .attr('alignment-baseline', 'hanging')\n",
              "      .text(text);\n",
              "  output.vertical_offset += 10;\n",
              "}\n",
              "\n",
              "/**\n",
              " * Adds a single line of text inside of a node with a tooltip.\n",
              " * @param {!options} options Dictionary of configurations.\n",
              " * @param {string} text Text to display.\n",
              " * @param {string} tooltip Text in the Tooltip.\n",
              " * @param {!output} output Output display accumulator.\n",
              " */\n",
              "function display_node_text_with_tooltip(options, text, tooltip, output) {\n",
              "  const item = output.content.append('text')\n",
              "                   .attr('x', options.node_padding)\n",
              "                   .attr('alignment-baseline', 'hanging')\n",
              "                   .text(text);\n",
              "\n",
              "  add_tooltip(options, item, () => tooltip);\n",
              "  output.vertical_offset += 10;\n",
              "}\n",
              "\n",
              "/**\n",
              " * Adds a tooltip to a dom element.\n",
              " * @param {!options} options Dictionary of configurations.\n",
              " * @param {!dom} target Dom element to equip with a tooltip.\n",
              " * @param {!func} get_content Generates the html content of the tooltip.\n",
              " */\n",
              "function add_tooltip(options, target, get_content) {\n",
              "  function show(d) {\n",
              "    options.tooltip.style('display', 'block');\n",
              "    options.tooltip.html(get_content());\n",
              "  }\n",
              "\n",
              "  function hide(d) {\n",
              "    options.tooltip.style('display', 'none');\n",
              "  }\n",
              "\n",
              "  function move(d) {\n",
              "    options.tooltip.style('display', 'block');\n",
              "    options.tooltip.style('left', (d.pageX + 5) + 'px');\n",
              "    options.tooltip.style('top', d.pageY + 'px');\n",
              "  }\n",
              "\n",
              "  target.on('mouseover', show);\n",
              "  target.on('mouseout', hide);\n",
              "  target.on('mousemove', move);\n",
              "}\n",
              "\n",
              "/**\n",
              " * Adds a condition inside of a node.\n",
              " * @param {!options} options Dictionary of configurations.\n",
              " * @param {!condition} condition Condition to display.\n",
              " * @param {!output} output Output display accumulator.\n",
              " */\n",
              "function display_condition(options, condition, output) {\n",
              "  threshold_format = d3.format('r');\n",
              "\n",
              "  if (condition.type === 'IS_MISSING') {\n",
              "    display_node_text(options, `${condition.attribute} is missing`, output);\n",
              "    return;\n",
              "  }\n",
              "\n",
              "  if (condition.type === 'IS_TRUE') {\n",
              "    display_node_text(options, `${condition.attribute} is true`, output);\n",
              "    return;\n",
              "  }\n",
              "\n",
              "  if (condition.type === 'NUMERICAL_IS_HIGHER_THAN') {\n",
              "    format = d3.format('r');\n",
              "    display_node_text(\n",
              "        options,\n",
              "        `${condition.attribute} >= ${threshold_format(condition.threshold)}`,\n",
              "        output);\n",
              "    return;\n",
              "  }\n",
              "\n",
              "  if (condition.type === 'CATEGORICAL_IS_IN') {\n",
              "    display_node_text_with_tooltip(\n",
              "        options, `${condition.attribute} in [...]`,\n",
              "        `${condition.attribute} in [${condition.mask}]`, output);\n",
              "    return;\n",
              "  }\n",
              "\n",
              "  if (condition.type === 'CATEGORICAL_SET_CONTAINS') {\n",
              "    display_node_text_with_tooltip(\n",
              "        options, `${condition.attribute} intersect [...]`,\n",
              "        `${condition.attribute} intersect [${condition.mask}]`, output);\n",
              "    return;\n",
              "  }\n",
              "\n",
              "  if (condition.type === 'NUMERICAL_SPARSE_OBLIQUE') {\n",
              "    display_node_text_with_tooltip(\n",
              "        options, `Sparse oblique split...`,\n",
              "        `[${condition.attributes}]*[${condition.weights}]>=${\n",
              "            threshold_format(condition.threshold)}`,\n",
              "        output);\n",
              "    return;\n",
              "  }\n",
              "\n",
              "  display_node_text(\n",
              "      options, `Non supported condition ${condition.type}`, output);\n",
              "}\n",
              "\n",
              "/**\n",
              " * Adds a value inside of a node.\n",
              " * @param {!options} options Dictionary of configurations.\n",
              " * @param {!value} value Value to display.\n",
              " * @param {!output} output Output display accumulator.\n",
              " */\n",
              "function display_value(options, value, output) {\n",
              "  if (value.type === 'PROBABILITY') {\n",
              "    const left_margin = 0;\n",
              "    const right_margin = 50;\n",
              "    const plot_width = options.node_x_size - options.node_padding * 2 -\n",
              "        left_margin - right_margin;\n",
              "\n",
              "    let cusum = Array.from(d3.cumsum(value.distribution));\n",
              "    cusum.unshift(0);\n",
              "    const distribution_plot = output.content.append('g').attr(\n",
              "        'transform', `translate(0,${output.vertical_offset + 0.5})`);\n",
              "\n",
              "    distribution_plot.selectAll('rect')\n",
              "        .data(value.distribution)\n",
              "        .join('rect')\n",
              "        .attr('height', 10)\n",
              "        .attr(\n",
              "            'x',\n",
              "            (d, i) =>\n",
              "                (cusum[i] * plot_width + left_margin + options.node_padding))\n",
              "        .attr('width', (d, i) => d * plot_width)\n",
              "        .style('fill', (d, i) => d3.schemeSet1[i]);\n",
              "\n",
              "    const num_examples =\n",
              "        output.content.append('g')\n",
              "            .attr('transform', `translate(0,${output.vertical_offset})`)\n",
              "            .append('text')\n",
              "            .attr('x', options.node_x_size - options.node_padding)\n",
              "            .attr('alignment-baseline', 'hanging')\n",
              "            .attr('text-anchor', 'end')\n",
              "            .text(`(${value.num_examples})`);\n",
              "\n",
              "    const distribution_details = d3.create('ul');\n",
              "    distribution_details.selectAll('li')\n",
              "        .data(value.distribution)\n",
              "        .join('li')\n",
              "        .append('span')\n",
              "        .text(\n",
              "            (d, i) =>\n",
              "                'class ' + i + ': ' + d3.format('.3%')(value.distribution[i]));\n",
              "\n",
              "    add_tooltip(options, distribution_plot, () => distribution_details.html());\n",
              "    add_tooltip(options, num_examples, () => 'Number of examples');\n",
              "\n",
              "    output.vertical_offset += 10;\n",
              "    return;\n",
              "  }\n",
              "\n",
              "  if (value.type === 'REGRESSION') {\n",
              "    display_node_text(\n",
              "        options,\n",
              "        'value: ' + d3.format('r')(value.value) + ` (` +\n",
              "            d3.format('.6')(value.num_examples) + `)`,\n",
              "        output);\n",
              "    return;\n",
              "  }\n",
              "\n",
              "  display_node_text(options, `Non supported value ${value.type}`, output);\n",
              "}\n",
              "\n",
              "/**\n",
              " * Adds an explanation inside of a node.\n",
              " * @param {!options} options Dictionary of configurations.\n",
              " * @param {!explanation} explanation Explanation to display.\n",
              " * @param {!output} output Output display accumulator.\n",
              " */\n",
              "function display_explanation(options, explanation, output) {\n",
              "  // Margin before the explanation.\n",
              "  output.vertical_offset += 10;\n",
              "\n",
              "  display_node_text(\n",
              "      options, `Non supported explanation ${explanation.type}`, output);\n",
              "}\n",
              "\n",
              "\n",
              "/**\n",
              " * Draw the edges of the tree.\n",
              " * @param {!options} options Dictionary of configurations.\n",
              " * @param {!graph} graph D3 search handle containing the graph.\n",
              " * @param {!tree_struct} tree_struct Structure of the tree (node placement,\n",
              " *     data, etc.).\n",
              " */\n",
              "function display_edges(options, graph, tree_struct) {\n",
              "  // Draw an edge between a parent and a child node with a bezier.\n",
              "  function draw_single_edge(d) {\n",
              "    return 'M' + (d.source.y + options.node_x_size) + ',' + d.source.x + ' C' +\n",
              "        (d.source.y + options.node_x_size + options.edge_rounding) + ',' +\n",
              "        d.source.x + ' ' + (d.target.y - options.edge_rounding) + ',' +\n",
              "        d.target.x + ' ' + d.target.y + ',' + d.target.x;\n",
              "  }\n",
              "\n",
              "  graph.append('g')\n",
              "      .attr('fill', 'none')\n",
              "      .attr('stroke-width', 1.2)\n",
              "      .selectAll('path')\n",
              "      .data(tree_struct.links())\n",
              "      .join('path')\n",
              "      .attr('d', draw_single_edge)\n",
              "      .attr(\n",
              "          'stroke', d => (d.target === d.source.children[0]) ? '#0F0' : '#F00');\n",
              "}\n",
              "\n",
              "display_tree({\"margin\": 10, \"node_x_size\": 160, \"node_y_size\": 28, \"node_x_offset\": 180, \"node_y_offset\": 33, \"font_size\": 10, \"edge_rounding\": 20, \"node_padding\": 2, \"show_plot_bounding_box\": false}, {\"value\": {\"type\": \"PROBABILITY\", \"distribution\": [0.12056603773584906, 0.629308176100629, 0.250125786163522], \"num_examples\": 15900.0}, \"condition\": {\"type\": \"NUMERICAL_IS_HIGHER_THAN\", \"attribute\": \"Age\", \"threshold\": 45.5}, \"children\": [{\"value\": {\"type\": \"PROBABILITY\", \"distribution\": [0.12094828490506661, 0.6411412986468058, 0.23791041644812755], \"num_examples\": 9533.0}, \"condition\": {\"type\": \"NUMERICAL_IS_HIGHER_THAN\", \"attribute\": \"Vaccine_PFIZER\\\\BIONTECH\", \"threshold\": 0.5}, \"children\": [{\"value\": {\"type\": \"PROBABILITY\", \"distribution\": [0.12848733043255695, 0.635781929869465, 0.23573073969797798], \"num_examples\": 3907.0}, \"condition\": {\"type\": \"NUMERICAL_IS_HIGHER_THAN\", \"attribute\": \"Age\", \"threshold\": 93.5}, \"children\": [{\"value\": {\"type\": \"PROBABILITY\", \"distribution\": [0.034482758620689655, 0.5172413793103449, 0.4482758620689655], \"num_examples\": 29.0}, \"condition\": {\"type\": \"NUMERICAL_IS_HIGHER_THAN\", \"attribute\": \"Sex_M\", \"threshold\": 0.5}}, {\"value\": {\"type\": \"PROBABILITY\", \"distribution\": [0.129190304280557, 0.6366683857658587, 0.23414130995358431], \"num_examples\": 3878.0}, \"condition\": {\"type\": \"NUMERICAL_IS_HIGHER_THAN\", \"attribute\": \"Age\", \"threshold\": 91.5}}]}, {\"value\": {\"type\": \"PROBABILITY\", \"distribution\": [0.11571276217561323, 0.644863135442588, 0.2394241023817988], \"num_examples\": 5626.0}, \"condition\": {\"type\": \"NUMERICAL_IS_HIGHER_THAN\", \"attribute\": \"Age\", \"threshold\": 90.5}, \"children\": [{\"value\": {\"type\": \"PROBABILITY\", \"distribution\": [0.2125, 0.35, 0.4375], \"num_examples\": 80.0}, \"condition\": {\"type\": \"NUMERICAL_IS_HIGHER_THAN\", \"attribute\": \"Age\", \"threshold\": 91.5}}, {\"value\": {\"type\": \"PROBABILITY\", \"distribution\": [0.1143166245943022, 0.6491164803461954, 0.23656689505950235], \"num_examples\": 5546.0}, \"condition\": {\"type\": \"NUMERICAL_IS_HIGHER_THAN\", \"attribute\": \"Age\", \"threshold\": 48.5}}]}]}, {\"value\": {\"type\": \"PROBABILITY\", \"distribution\": [0.11999371760640803, 0.6115910161771635, 0.26841526621642847], \"num_examples\": 6367.0}, \"condition\": {\"type\": \"NUMERICAL_IS_HIGHER_THAN\", \"attribute\": \"Age\", \"threshold\": 43.5}, \"children\": [{\"value\": {\"type\": \"PROBABILITY\", \"distribution\": [0.08678500986193294, 0.5877712031558185, 0.3254437869822485], \"num_examples\": 507.0}, \"condition\": {\"type\": \"NUMERICAL_IS_HIGHER_THAN\", \"attribute\": \"Sex_F\", \"threshold\": 0.5}, \"children\": [{\"value\": {\"type\": \"PROBABILITY\", \"distribution\": [0.10173697270471464, 0.5781637717121588, 0.3200992555831266], \"num_examples\": 403.0}, \"condition\": {\"type\": \"NUMERICAL_IS_HIGHER_THAN\", \"attribute\": \"Age\", \"threshold\": 44.5}}, {\"value\": {\"type\": \"PROBABILITY\", \"distribution\": [0.028846153846153848, 0.625, 0.34615384615384615], \"num_examples\": 104.0}, \"condition\": {\"type\": \"NUMERICAL_IS_HIGHER_THAN\", \"attribute\": \"Age\", \"threshold\": 44.5}}]}, {\"value\": {\"type\": \"PROBABILITY\", \"distribution\": [0.12286689419795221, 0.6136518771331058, 0.26348122866894197], \"num_examples\": 5860.0}, \"condition\": {\"type\": \"NUMERICAL_IS_HIGHER_THAN\", \"attribute\": \"Age\", \"threshold\": 28.5}, \"children\": [{\"value\": {\"type\": \"PROBABILITY\", \"distribution\": [0.12017694765298599, 0.625460801179651, 0.254362251167363], \"num_examples\": 4069.0}, \"condition\": {\"type\": \"NUMERICAL_IS_HIGHER_THAN\", \"attribute\": \"Age\", \"threshold\": 41.5}}, {\"value\": {\"type\": \"PROBABILITY\", \"distribution\": [0.12897822445561138, 0.586823003908431, 0.2841987716359576], \"num_examples\": 1791.0}, \"condition\": {\"type\": \"NUMERICAL_IS_HIGHER_THAN\", \"attribute\": \"Age\", \"threshold\": 20.5}}]}]}]}, \"#tree_plot_ce279b1380a44824a7f8f4af0c886534\")\n",
              "</script>\n"
            ],
            "text/plain": [
              "<IPython.core.display.HTML object>"
            ]
          },
          "execution_count": 442,
          "metadata": {},
          "output_type": "execute_result"
        }
      ],
      "source": [
        "# Random Forest Tree plotter, each box represents a Tree Node\n",
        "tfdf.model_plotter.plot_model_in_colab(rf_model, tree_idx=0, max_depth=3)"
      ]
    },
    {
      "cell_type": "code",
      "execution_count": null,
      "metadata": {
        "colab": {
          "base_uri": "https://localhost:8080/",
          "height": 331
        },
        "id": "OHfMJ98ANeNZ",
        "outputId": "4cb07528-b9d4-4536-a386-01bbb887a85b"
      },
      "outputs": [
        {
          "data": {
            "text/plain": [
              "<Figure size 864x288 with 0 Axes>"
            ]
          },
          "execution_count": 443,
          "metadata": {},
          "output_type": "execute_result"
        },
        {
          "data": {
            "text/plain": [
              "<matplotlib.axes._subplots.AxesSubplot at 0x7fdb7a9d0b50>"
            ]
          },
          "execution_count": 443,
          "metadata": {},
          "output_type": "execute_result"
        },
        {
          "data": {
            "text/plain": [
              "[<matplotlib.lines.Line2D at 0x7fdc245d9210>]"
            ]
          },
          "execution_count": 443,
          "metadata": {},
          "output_type": "execute_result"
        },
        {
          "data": {
            "text/plain": [
              "Text(0.5, 0, 'Number of trees')"
            ]
          },
          "execution_count": 443,
          "metadata": {},
          "output_type": "execute_result"
        },
        {
          "data": {
            "text/plain": [
              "Text(0, 0.5, 'Accuracy (out-of-bag)')"
            ]
          },
          "execution_count": 443,
          "metadata": {},
          "output_type": "execute_result"
        },
        {
          "data": {
            "text/plain": [
              "<matplotlib.axes._subplots.AxesSubplot at 0x7fdc245d9850>"
            ]
          },
          "execution_count": 443,
          "metadata": {},
          "output_type": "execute_result"
        },
        {
          "data": {
            "text/plain": [
              "[<matplotlib.lines.Line2D at 0x7fdb7acd4750>]"
            ]
          },
          "execution_count": 443,
          "metadata": {},
          "output_type": "execute_result"
        },
        {
          "data": {
            "text/plain": [
              "Text(0.5, 0, 'Number of trees')"
            ]
          },
          "execution_count": 443,
          "metadata": {},
          "output_type": "execute_result"
        },
        {
          "data": {
            "text/plain": [
              "Text(0, 0.5, 'Logloss (out-of-bag)')"
            ]
          },
          "execution_count": 443,
          "metadata": {},
          "output_type": "execute_result"
        },
        {
          "data": {
            "image/png": "[encoded data removed]",
            "text/plain": [
              "<Figure size 864x288 with 2 Axes>"
            ]
          },
          "metadata": {
            "needs_background": "light"
          },
          "output_type": "display_data"
        }
      ],
      "source": [
        "# Plotting Accuracy and Loss of the model\n",
        "import matplotlib.pyplot as plt\n",
        "\n",
        "logs = rf_model.make_inspector().training_logs()\n",
        "\n",
        "plt.figure(figsize=(12, 4))\n",
        "\n",
        "plt.subplot(1, 2, 1)\n",
        "plt.plot([log.num_trees for log in logs], [log.evaluation.accuracy for log in logs])\n",
        "plt.xlabel(\"Number of trees\")\n",
        "plt.ylabel(\"Accuracy (out-of-bag)\")\n",
        "\n",
        "plt.subplot(1, 2, 2)\n",
        "plt.plot([log.num_trees for log in logs], [log.evaluation.loss for log in logs])\n",
        "plt.xlabel(\"Number of trees\")\n",
        "plt.ylabel(\"Logloss (out-of-bag)\")\n",
        "\n",
        "plt.show()"
      ]
    },
    {
      "cell_type": "markdown",
      "metadata": {
        "id": "_umDNd4N9hLT"
      },
      "source": [
        "# LSTM Model Training"
      ]
    },
    {
      "cell_type": "code",
      "execution_count": null,
      "metadata": {
        "colab": {
          "base_uri": "https://localhost:8080/",
          "height": 17
        },
        "id": "H7PGDVa69ggM",
        "outputId": "9de0da36-a796-40e8-d814-6c8e4771f7df"
      },
      "outputs": [
        {
          "data": {
            "text/html": [
              "        <script type=\"text/javascript\">\n",
              "        window.PlotlyConfig = {MathJaxConfig: 'local'};\n",
              "        if (window.MathJax) {MathJax.Hub.Config({SVG: {font: \"STIX-Web\"}});}\n",
              "        if (typeof require !== 'undefined') {\n",
              "        require.undef(\"plotly\");\n",
              "        requirejs.config({\n",
              "            paths: {\n",
              "                'plotly': ['https://cdn.plot.ly/plotly-latest.min']\n",
              "            }\n",
              "        });\n",
              "        require(['plotly'], function(Plotly) {\n",
              "            window._Plotly = Plotly;\n",
              "        });\n",
              "        }\n",
              "        </script>\n",
              "        "
            ]
          },
          "metadata": {},
          "output_type": "display_data"
        }
      ],
      "source": [
        "import numpy as np \n",
        "import pandas as pd\n",
        "import matplotlib.pyplot as plt\n",
        "import seaborn as sns\n",
        "from keras.models import Sequential\n",
        "from keras.layers import Dense, Embedding, LSTM, SpatialDropout1D\n",
        "from sklearn.model_selection import train_test_split\n",
        "from keras.utils.np_utils import to_categorical\n",
        "from keras.callbacks import EarlyStopping\n",
        "from keras.layers import Dropout\n",
        "import plotly.graph_objs as go\n",
        "import cufflinks\n",
        "from IPython.core.interactiveshell import InteractiveShell\n",
        "import plotly.figure_factory as ff\n",
        "InteractiveShell.ast_node_interactivity = 'all'\n",
        "from plotly.offline import iplot\n",
        "cufflinks.go_offline()\n",
        "cufflinks.set_config_file(world_readable=True, theme='pearl')"
      ]
    },
    {
      "cell_type": "markdown",
      "metadata": {
        "id": "GDt_Rnf3xgCV"
      },
      "source": [
        "## Data Preperation"
      ]
    },
    {
      "cell_type": "code",
      "execution_count": null,
      "metadata": {
        "id": "pp5LpaV6tcd6"
      },
      "outputs": [],
      "source": [
        "# The maximum number of side effects to be determined. (most frequent)\n",
        "MAX_NB_SIDE = 5000\n",
        "# This is fixed.\n",
        "EMBEDDING_DIM = 100"
      ]
    },
    {
      "cell_type": "code",
      "execution_count": null,
      "metadata": {
        "id": "VrrwRiVrsnt2"
      },
      "outputs": [],
      "source": [
        "# using One-Hot Encoder to generate binary values using get_dummies\n",
        "vaers_lstm = pd.get_dummies(vaers, columns=[\"Vaccine\", \"Sex\"])\n",
        "vaers_lstm"
      ]
    },
    {
      "cell_type": "code",
      "execution_count": null,
      "metadata": {
        "colab": {
          "base_uri": "https://localhost:8080/"
        },
        "id": "i0dnhOfaeuGf",
        "outputId": "07291e94-1c40-45a5-cf11-8d5e47b4bce5"
      },
      "outputs": [
        {
          "name": "stdout",
          "output_type": "stream",
          "text": [
            "Shape of data tensor: (19743, 5)\n"
          ]
        }
      ],
      "source": [
        "X = vaers_lstm.iloc[:,2:7].values\n",
        "print('Shape of data tensor:', X.shape)"
      ]
    },
    {
      "cell_type": "code",
      "execution_count": null,
      "metadata": {
        "colab": {
          "base_uri": "https://localhost:8080/"
        },
        "id": "uNZrHy6Ceuz9",
        "outputId": "cb618f16-f8ac-4459-a959-46b77d124c43"
      },
      "outputs": [
        {
          "name": "stdout",
          "output_type": "stream",
          "text": [
            "Shape of label tensor: (19743, 3)\n"
          ]
        }
      ],
      "source": [
        "Y = pd.get_dummies(vaers_lstm['Side_Effect']).values\n",
        "print('Shape of label tensor:', Y.shape)"
      ]
    },
    {
      "cell_type": "code",
      "execution_count": null,
      "metadata": {
        "colab": {
          "base_uri": "https://localhost:8080/"
        },
        "id": "CYE3gHQetNje",
        "outputId": "e9997f05-b677-45bf-bc89-a586354cf6e3"
      },
      "outputs": [
        {
          "name": "stdout",
          "output_type": "stream",
          "text": [
            "(15794, 5) (15794, 3)\n",
            "(3949, 5) (3949, 3)\n"
          ]
        }
      ],
      "source": [
        "X_train, X_test, Y_train, Y_test = train_test_split(X,Y, test_size = 0.20, random_state = 42)\n",
        "print(X_train.shape,Y_train.shape)\n",
        "print(X_test.shape,Y_test.shape)"
      ]
    },
    {
      "cell_type": "markdown",
      "metadata": {
        "id": "eqlfPf4oxkCM"
      },
      "source": [
        "## Model Training"
      ]
    },
    {
      "cell_type": "code",
      "execution_count": null,
      "metadata": {
        "id": "vrJ1xACqtTmm"
      },
      "outputs": [],
      "source": [
        "model = Sequential()\n",
        "model.add(Embedding(MAX_NB_SIDE, EMBEDDING_DIM, input_length=X.shape[1]))\n",
        "model.add(SpatialDropout1D(0.2))\n",
        "model.add(LSTM(100, dropout=0.2, recurrent_dropout=0.2))\n",
        "model.add(Dense(3, activation='relu'))\n",
        "model.compile(loss='categorical_crossentropy', optimizer='adam', metrics=['accuracy'])\n",
        "print(model.summary())"
      ]
    },
    {
      "cell_type": "code",
      "execution_count": null,
      "metadata": {
        "id": "JMwoS0Ewtrc6"
      },
      "outputs": [],
      "source": [
        "epochs = 5\n",
        "batch_size = 64\n",
        "\n",
        "history = model.fit(X_train, Y_train, epochs=epochs, batch_size=batch_size,validation_split=0.1,callbacks=[EarlyStopping(monitor='val_loss', patience=3, min_delta=0.0001)])"
      ]
    },
    {
      "cell_type": "markdown",
      "metadata": {
        "id": "yu2E0BRaxmwX"
      },
      "source": [
        "## Model Evaluation"
      ]
    },
    {
      "cell_type": "code",
      "execution_count": null,
      "metadata": {
        "colab": {
          "base_uri": "https://localhost:8080/"
        },
        "id": "WhBMvL7g3Ank",
        "outputId": "dcc5e7ff-0dbd-404a-ce5d-e7afb95d3a45"
      },
      "outputs": [
        {
          "name": "stdout",
          "output_type": "stream",
          "text": [
            "124/124 [==============================] - 0s 3ms/step - loss: 0.8932 - accuracy: 0.6280\n",
            "Test set\n",
            "  Loss: 0.893\n",
            "  Accuracy: 0.628\n"
          ]
        }
      ],
      "source": [
        "accr = model.evaluate(X_test,Y_test)\n",
        "print('Test set\\n  Loss: {:0.3f}\\n  Accuracy: {:0.3f}'.format(accr[0],accr[1]))"
      ]
    },
    {
      "cell_type": "markdown",
      "metadata": {
        "id": "4ImZ8w52xpNM"
      },
      "source": [
        "## Saving Model and Graph Plotting"
      ]
    },
    {
      "cell_type": "code",
      "execution_count": null,
      "metadata": {
        "id": "Z8tsBMtRNpQr"
      },
      "outputs": [],
      "source": [
        "! mkdir model"
      ]
    },
    {
      "cell_type": "code",
      "execution_count": null,
      "metadata": {
        "colab": {
          "base_uri": "https://localhost:8080/"
        },
        "id": "YgzAZ-XcM58X",
        "outputId": "6cfbcee4-c12a-47c7-a476-ee6e10bf3f5d"
      },
      "outputs": [
        {
          "name": "stdout",
          "output_type": "stream",
          "text": [
            "INFO:tensorflow:Assets written to: model/LSTMModel/assets\n"
          ]
        },
        {
          "name": "stderr",
          "output_type": "stream",
          "text": [
            "INFO:tensorflow:Assets written to: model/LSTMModel/assets\n",
            "WARNING:absl:<keras.layers.recurrent.LSTMCell object at 0x7fdb9d5d6490> has the same name 'LSTMCell' as a built-in Keras object. Consider renaming <class 'keras.layers.recurrent.LSTMCell'> to avoid naming conflicts when loading with `tf.keras.models.load_model`. If renaming is not possible, pass the object in the `custom_objects` parameter of the load function.\n"
          ]
        }
      ],
      "source": [
        "# Save Model\n",
        "model.save(\"model/LSTMModel\")"
      ]
    },
    {
      "cell_type": "code",
      "execution_count": null,
      "metadata": {
        "colab": {
          "base_uri": "https://localhost:8080/",
          "height": 281
        },
        "id": "GpYFrQAe_WuB",
        "outputId": "400805a1-f963-4474-df89-98d13526bb78"
      },
      "outputs": [
        {
          "data": {
            "image/png": "[encoded data removed]",
            "text/plain": [
              "<Figure size 432x288 with 1 Axes>"
            ]
          },
          "metadata": {
            "needs_background": "light"
          },
          "output_type": "display_data"
        }
      ],
      "source": [
        "plt.title('Loss')\n",
        "plt.plot(history.history['loss'], label='train')\n",
        "plt.plot(history.history['val_loss'], label='test')\n",
        "plt.legend()\n",
        "plt.show();"
      ]
    },
    {
      "cell_type": "code",
      "execution_count": null,
      "metadata": {
        "colab": {
          "base_uri": "https://localhost:8080/",
          "height": 281
        },
        "id": "K4YnqntE_cam",
        "outputId": "a556553a-601b-4ccb-d046-9d51ee37b1e7"
      },
      "outputs": [
        {
          "data": {
            "image/png": "[encoded data removed]",
            "text/plain": [
              "<Figure size 432x288 with 1 Axes>"
            ]
          },
          "metadata": {
            "needs_background": "light"
          },
          "output_type": "display_data"
        }
      ],
      "source": [
        "plt.title('Accuracy')\n",
        "plt.plot(history.history['accuracy'], label='train')\n",
        "plt.plot(history.history['val_accuracy'], label='test')\n",
        "plt.legend()\n",
        "plt.show();"
      ]
    },
    {
      "cell_type": "code",
      "execution_count": null,
      "metadata": {
        "colab": {
          "base_uri": "https://localhost:8080/"
        },
        "id": "zU1eoxNXbuS-",
        "outputId": "1807bbc3-5d39-42b2-890d-1c72882f0bc3"
      },
      "outputs": [
        {
          "name": "stdout",
          "output_type": "stream",
          "text": [
            "[[0.14577474 0.3763443  0.08911598]] Pain\n"
          ]
        }
      ],
      "source": [
        "# Predict the symptom using new data\n",
        "new_data = [['36', '1', '0', '1', '0']] # Age, MODRENA, PFIZER, FEMALE, MALE\n",
        "new_data = np.asarray(new_data).astype(np.float32)\n",
        "pred = model.predict(new_data)\n",
        "labels = ['Headache', 'Pain', 'Swelling']\n",
        "print(pred, labels[np.argmax(pred)])"
      ]
    }
  ],
  "metadata": {
    "colab": {
      "collapsed_sections": [],
      "name": "VAERS_Side_Effect_Data_Preprocessing.ipynb",
      "provenance": []
    },
    "kernelspec": {
      "display_name": "Python 3",
      "name": "python3"
    },
    "language_info": {
      "codemirror_mode": {
        "name": "ipython",
        "version": 3
      },
      "file_extension": ".py",
      "mimetype": "text/x-python",
      "name": "python",
      "nbconvert_exporter": "python",
      "pygments_lexer": "ipython3",
      "version": "3.10.2"
    }
  },
  "nbformat": 4,
  "nbformat_minor": 0
}
